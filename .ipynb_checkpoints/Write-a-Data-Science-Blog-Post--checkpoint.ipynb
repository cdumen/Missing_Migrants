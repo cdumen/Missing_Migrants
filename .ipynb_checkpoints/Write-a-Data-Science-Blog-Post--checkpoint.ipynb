{
 "cells": [
  {
   "cell_type": "markdown",
   "metadata": {},
   "source": [
    "## Data Science Blog Post - Missing Migrants"
   ]
  },
  {
   "cell_type": "code",
   "execution_count": 34,
   "metadata": {},
   "outputs": [],
   "source": [
    "#import necessary libraries\n",
    "import warnings\n",
    "import numpy as np\n",
    "import pandas as pd\n",
    "import seaborn as sns\n",
    "import matplotlib.pyplot as plt\n",
    "import matplotlib"
   ]
  },
  {
   "cell_type": "markdown",
   "metadata": {},
   "source": [
    "In this project, CRISP-DM methodology will be followed with the below specified steps:\n",
    "1. Business Understanding\n",
    "2. Data Understanding\n",
    "3. Data Preparation\n",
    "4. Modeling\n",
    "5. Evaluation\n",
    "6. Deployment"
   ]
  },
  {
   "cell_type": "markdown",
   "metadata": {},
   "source": [
    "#### Business Understanding\n",
    "\n",
    "In this step, main focus is to understand the project objectives and requirements from a business perspective. Then, this understanding and knowledge will be converted into a data mining problem definition and defines a study plan. \n",
    "\n",
    "In this research, I will focus on the questions which are stated in below:\n",
    "\n",
    "1. Distribution of total dead and missing number of migrants among the years to understand the conditions.\n",
    "2. Region of Incident to understand the route and road conditions\n",
    "3. Top causes of death to investigate the migrants death reasoning.\n",
    "\n",
    "\n"
   ]
  },
  {
   "cell_type": "markdown",
   "metadata": {},
   "source": [
    "#### Data Understanding\n",
    "\n",
    "Data Understanding process starts with data collection and then proceeds with performing analysis to identify data quality, to discover first insights into data, or to detect interesting subsets to form hypothesis for hidden informations."
   ]
  },
  {
   "cell_type": "code",
   "execution_count": 26,
   "metadata": {
    "scrolled": true
   },
   "outputs": [
    {
     "data": {
      "text/html": [
       "<div>\n",
       "<style scoped>\n",
       "    .dataframe tbody tr th:only-of-type {\n",
       "        vertical-align: middle;\n",
       "    }\n",
       "\n",
       "    .dataframe tbody tr th {\n",
       "        vertical-align: top;\n",
       "    }\n",
       "\n",
       "    .dataframe thead th {\n",
       "        text-align: right;\n",
       "    }\n",
       "</style>\n",
       "<table border=\"1\" class=\"dataframe\">\n",
       "  <thead>\n",
       "    <tr style=\"text-align: right;\">\n",
       "      <th></th>\n",
       "      <th>Web ID</th>\n",
       "      <th>Region of Incident</th>\n",
       "      <th>Reported Date</th>\n",
       "      <th>Reported Year</th>\n",
       "      <th>Reported Month</th>\n",
       "      <th>Number Dead</th>\n",
       "      <th>Minimum Estimated Number of Missing</th>\n",
       "      <th>Total Dead and Missing</th>\n",
       "      <th>Number of Survivors</th>\n",
       "      <th>Number of Females</th>\n",
       "      <th>Number of Males</th>\n",
       "      <th>Number of Children</th>\n",
       "      <th>Cause of Death</th>\n",
       "      <th>Location Description</th>\n",
       "      <th>Information Source</th>\n",
       "      <th>Location Coordinates</th>\n",
       "      <th>Migration Route</th>\n",
       "      <th>URL</th>\n",
       "      <th>UNSD Geographical Grouping</th>\n",
       "      <th>Source Quality</th>\n",
       "    </tr>\n",
       "  </thead>\n",
       "  <tbody>\n",
       "    <tr>\n",
       "      <th>0</th>\n",
       "      <td>51591</td>\n",
       "      <td>Mediterranean</td>\n",
       "      <td>March 28, 2019</td>\n",
       "      <td>2019</td>\n",
       "      <td>Mar</td>\n",
       "      <td>NaN</td>\n",
       "      <td>2.0</td>\n",
       "      <td>2</td>\n",
       "      <td>36.0</td>\n",
       "      <td>NaN</td>\n",
       "      <td>2.0</td>\n",
       "      <td>NaN</td>\n",
       "      <td>Presumed drowning</td>\n",
       "      <td>Off the coast of Chios, Greece</td>\n",
       "      <td>Hellenic Coast Guard via IOM Greece</td>\n",
       "      <td>38.362368696592, 26.172509473654</td>\n",
       "      <td>Eastern Mediterranean</td>\n",
       "      <td>NaN</td>\n",
       "      <td>Uncategorized</td>\n",
       "      <td>5</td>\n",
       "    </tr>\n",
       "    <tr>\n",
       "      <th>1</th>\n",
       "      <td>51588</td>\n",
       "      <td>Mediterranean</td>\n",
       "      <td>March 26, 2019</td>\n",
       "      <td>2019</td>\n",
       "      <td>Mar</td>\n",
       "      <td>4.0</td>\n",
       "      <td>NaN</td>\n",
       "      <td>4</td>\n",
       "      <td>11.0</td>\n",
       "      <td>3.0</td>\n",
       "      <td>NaN</td>\n",
       "      <td>1.0</td>\n",
       "      <td>Presumed drowning</td>\n",
       "      <td>Off the coast of Ayvacık district, Çanakkale p...</td>\n",
       "      <td>Turkish Coast Guard via IOM Turkey</td>\n",
       "      <td>39.441975591614, 26.378816195919</td>\n",
       "      <td>Eastern Mediterranean</td>\n",
       "      <td>http://bit.ly/2YmiPAN</td>\n",
       "      <td>Uncategorized</td>\n",
       "      <td>5</td>\n",
       "    </tr>\n",
       "    <tr>\n",
       "      <th>2</th>\n",
       "      <td>51589</td>\n",
       "      <td>Mediterranean</td>\n",
       "      <td>March 26, 2019</td>\n",
       "      <td>2019</td>\n",
       "      <td>Mar</td>\n",
       "      <td>1.0</td>\n",
       "      <td>NaN</td>\n",
       "      <td>1</td>\n",
       "      <td>NaN</td>\n",
       "      <td>NaN</td>\n",
       "      <td>NaN</td>\n",
       "      <td>NaN</td>\n",
       "      <td>Presumed drowning</td>\n",
       "      <td>Body recovered on Playa del Tarajal, Ceuta, Sp...</td>\n",
       "      <td>Ceuta al día, El Pueblo de Ceuta</td>\n",
       "      <td>35.871901875921, -5.343037665842</td>\n",
       "      <td>Western Mediterranean</td>\n",
       "      <td>http://bit.ly/2uyj7qO, http://bit.ly/2uwj5zC</td>\n",
       "      <td>Uncategorized</td>\n",
       "      <td>3</td>\n",
       "    </tr>\n",
       "    <tr>\n",
       "      <th>3</th>\n",
       "      <td>51590</td>\n",
       "      <td>Mediterranean</td>\n",
       "      <td>March 26, 2019</td>\n",
       "      <td>2019</td>\n",
       "      <td>Mar</td>\n",
       "      <td>1.0</td>\n",
       "      <td>NaN</td>\n",
       "      <td>1</td>\n",
       "      <td>NaN</td>\n",
       "      <td>NaN</td>\n",
       "      <td>NaN</td>\n",
       "      <td>NaN</td>\n",
       "      <td>Presumed drowning</td>\n",
       "      <td>Body recovered on beach near Tetouan, Morocco ...</td>\n",
       "      <td>El Pueblo de Ceuta</td>\n",
       "      <td>35.635115912988, -5.275650103548</td>\n",
       "      <td>Western Mediterranean</td>\n",
       "      <td>http://bit.ly/2uwj5zC</td>\n",
       "      <td>Uncategorized</td>\n",
       "      <td>1</td>\n",
       "    </tr>\n",
       "    <tr>\n",
       "      <th>4</th>\n",
       "      <td>51587</td>\n",
       "      <td>Central America</td>\n",
       "      <td>March 25, 2019</td>\n",
       "      <td>2019</td>\n",
       "      <td>Mar</td>\n",
       "      <td>1.0</td>\n",
       "      <td>NaN</td>\n",
       "      <td>1</td>\n",
       "      <td>NaN</td>\n",
       "      <td>NaN</td>\n",
       "      <td>1.0</td>\n",
       "      <td>NaN</td>\n",
       "      <td>Fall from train</td>\n",
       "      <td>Train tracks in Teacalco, Tlaxcala, Mexico</td>\n",
       "      <td>Megalópolis, Línea de contraste</td>\n",
       "      <td>19.334475177429, -98.069823987538</td>\n",
       "      <td>NaN</td>\n",
       "      <td>http://bit.ly/2uvDIvH, http://bit.ly/2TXAFLS</td>\n",
       "      <td>Central America</td>\n",
       "      <td>3</td>\n",
       "    </tr>\n",
       "  </tbody>\n",
       "</table>\n",
       "</div>"
      ],
      "text/plain": [
       "   Web ID Region of Incident   Reported Date  Reported Year Reported Month  \\\n",
       "0   51591      Mediterranean  March 28, 2019           2019            Mar   \n",
       "1   51588      Mediterranean  March 26, 2019           2019            Mar   \n",
       "2   51589      Mediterranean  March 26, 2019           2019            Mar   \n",
       "3   51590      Mediterranean  March 26, 2019           2019            Mar   \n",
       "4   51587    Central America  March 25, 2019           2019            Mar   \n",
       "\n",
       "   Number Dead  Minimum Estimated Number of Missing  Total Dead and Missing  \\\n",
       "0          NaN                                  2.0                       2   \n",
       "1          4.0                                  NaN                       4   \n",
       "2          1.0                                  NaN                       1   \n",
       "3          1.0                                  NaN                       1   \n",
       "4          1.0                                  NaN                       1   \n",
       "\n",
       "   Number of Survivors  Number of Females  Number of Males  \\\n",
       "0                 36.0                NaN              2.0   \n",
       "1                 11.0                3.0              NaN   \n",
       "2                  NaN                NaN              NaN   \n",
       "3                  NaN                NaN              NaN   \n",
       "4                  NaN                NaN              1.0   \n",
       "\n",
       "   Number of Children     Cause of Death  \\\n",
       "0                 NaN  Presumed drowning   \n",
       "1                 1.0  Presumed drowning   \n",
       "2                 NaN  Presumed drowning   \n",
       "3                 NaN  Presumed drowning   \n",
       "4                 NaN    Fall from train   \n",
       "\n",
       "                                Location Description  \\\n",
       "0                     Off the coast of Chios, Greece   \n",
       "1  Off the coast of Ayvacık district, Çanakkale p...   \n",
       "2  Body recovered on Playa del Tarajal, Ceuta, Sp...   \n",
       "3  Body recovered on beach near Tetouan, Morocco ...   \n",
       "4         Train tracks in Teacalco, Tlaxcala, Mexico   \n",
       "\n",
       "                    Information Source               Location Coordinates  \\\n",
       "0  Hellenic Coast Guard via IOM Greece   38.362368696592, 26.172509473654   \n",
       "1   Turkish Coast Guard via IOM Turkey   39.441975591614, 26.378816195919   \n",
       "2     Ceuta al día, El Pueblo de Ceuta   35.871901875921, -5.343037665842   \n",
       "3                   El Pueblo de Ceuta   35.635115912988, -5.275650103548   \n",
       "4      Megalópolis, Línea de contraste  19.334475177429, -98.069823987538   \n",
       "\n",
       "         Migration Route                                           URL  \\\n",
       "0  Eastern Mediterranean                                           NaN   \n",
       "1  Eastern Mediterranean                         http://bit.ly/2YmiPAN   \n",
       "2  Western Mediterranean  http://bit.ly/2uyj7qO, http://bit.ly/2uwj5zC   \n",
       "3  Western Mediterranean                         http://bit.ly/2uwj5zC   \n",
       "4                    NaN  http://bit.ly/2uvDIvH, http://bit.ly/2TXAFLS   \n",
       "\n",
       "  UNSD Geographical Grouping  Source Quality  \n",
       "0              Uncategorized               5  \n",
       "1              Uncategorized               5  \n",
       "2              Uncategorized               3  \n",
       "3              Uncategorized               1  \n",
       "4            Central America               3  "
      ]
     },
     "execution_count": 26,
     "metadata": {},
     "output_type": "execute_result"
    }
   ],
   "source": [
    "# Read the data\n",
    "Missing_Migrants = pd.read_csv('MissingMigrants-Global-2019-03-29T18-36-07.csv')\n",
    "Missing_Migrants.head()"
   ]
  },
  {
   "cell_type": "code",
   "execution_count": 27,
   "metadata": {},
   "outputs": [
    {
     "name": "stdout",
     "output_type": "stream",
     "text": [
      "Row    number: 5333\n",
      "Column number: 20\n"
     ]
    }
   ],
   "source": [
    "# Print the number of columns and rows\n",
    "number_rows = Missing_Migrants.shape[0] \n",
    "number_cols = Missing_Migrants.shape[1] \n",
    "print(\"Row    number: {}\".format(number_rows))\n",
    "print(\"Column number: {}\".format(number_cols))"
   ]
  },
  {
   "cell_type": "code",
   "execution_count": 28,
   "metadata": {},
   "outputs": [
    {
     "data": {
      "text/html": [
       "<div>\n",
       "<style scoped>\n",
       "    .dataframe tbody tr th:only-of-type {\n",
       "        vertical-align: middle;\n",
       "    }\n",
       "\n",
       "    .dataframe tbody tr th {\n",
       "        vertical-align: top;\n",
       "    }\n",
       "\n",
       "    .dataframe thead th {\n",
       "        text-align: right;\n",
       "    }\n",
       "</style>\n",
       "<table border=\"1\" class=\"dataframe\">\n",
       "  <thead>\n",
       "    <tr style=\"text-align: right;\">\n",
       "      <th></th>\n",
       "      <th>Web ID</th>\n",
       "      <th>Reported Year</th>\n",
       "      <th>Number Dead</th>\n",
       "      <th>Minimum Estimated Number of Missing</th>\n",
       "      <th>Total Dead and Missing</th>\n",
       "      <th>Number of Survivors</th>\n",
       "      <th>Number of Females</th>\n",
       "      <th>Number of Males</th>\n",
       "      <th>Number of Children</th>\n",
       "      <th>Source Quality</th>\n",
       "    </tr>\n",
       "  </thead>\n",
       "  <tbody>\n",
       "    <tr>\n",
       "      <th>count</th>\n",
       "      <td>5333.000000</td>\n",
       "      <td>5333.000000</td>\n",
       "      <td>5142.000000</td>\n",
       "      <td>503.000000</td>\n",
       "      <td>5333.000000</td>\n",
       "      <td>749.000000</td>\n",
       "      <td>897.000000</td>\n",
       "      <td>2813.000000</td>\n",
       "      <td>644.000000</td>\n",
       "      <td>5333.000000</td>\n",
       "    </tr>\n",
       "    <tr>\n",
       "      <th>mean</th>\n",
       "      <td>43247.885805</td>\n",
       "      <td>2016.656104</td>\n",
       "      <td>3.287631</td>\n",
       "      <td>29.119284</td>\n",
       "      <td>5.916370</td>\n",
       "      <td>63.607477</td>\n",
       "      <td>2.012263</td>\n",
       "      <td>1.890864</td>\n",
       "      <td>2.476708</td>\n",
       "      <td>2.895556</td>\n",
       "    </tr>\n",
       "    <tr>\n",
       "      <th>std</th>\n",
       "      <td>5186.837212</td>\n",
       "      <td>1.237033</td>\n",
       "      <td>13.593407</td>\n",
       "      <td>67.913216</td>\n",
       "      <td>28.051811</td>\n",
       "      <td>146.520155</td>\n",
       "      <td>2.990100</td>\n",
       "      <td>5.510674</td>\n",
       "      <td>10.216220</td>\n",
       "      <td>1.423257</td>\n",
       "    </tr>\n",
       "    <tr>\n",
       "      <th>min</th>\n",
       "      <td>30158.000000</td>\n",
       "      <td>2014.000000</td>\n",
       "      <td>0.000000</td>\n",
       "      <td>0.000000</td>\n",
       "      <td>0.000000</td>\n",
       "      <td>0.000000</td>\n",
       "      <td>0.000000</td>\n",
       "      <td>0.000000</td>\n",
       "      <td>0.000000</td>\n",
       "      <td>1.000000</td>\n",
       "    </tr>\n",
       "    <tr>\n",
       "      <th>25%</th>\n",
       "      <td>40876.000000</td>\n",
       "      <td>2016.000000</td>\n",
       "      <td>1.000000</td>\n",
       "      <td>2.000000</td>\n",
       "      <td>1.000000</td>\n",
       "      <td>5.000000</td>\n",
       "      <td>1.000000</td>\n",
       "      <td>1.000000</td>\n",
       "      <td>1.000000</td>\n",
       "      <td>2.000000</td>\n",
       "    </tr>\n",
       "    <tr>\n",
       "      <th>50%</th>\n",
       "      <td>43504.000000</td>\n",
       "      <td>2017.000000</td>\n",
       "      <td>1.000000</td>\n",
       "      <td>7.000000</td>\n",
       "      <td>1.000000</td>\n",
       "      <td>15.000000</td>\n",
       "      <td>1.000000</td>\n",
       "      <td>1.000000</td>\n",
       "      <td>1.000000</td>\n",
       "      <td>2.000000</td>\n",
       "    </tr>\n",
       "    <tr>\n",
       "      <th>75%</th>\n",
       "      <td>45747.000000</td>\n",
       "      <td>2018.000000</td>\n",
       "      <td>2.000000</td>\n",
       "      <td>25.000000</td>\n",
       "      <td>3.000000</td>\n",
       "      <td>61.000000</td>\n",
       "      <td>2.000000</td>\n",
       "      <td>1.000000</td>\n",
       "      <td>2.000000</td>\n",
       "      <td>4.000000</td>\n",
       "    </tr>\n",
       "    <tr>\n",
       "      <th>max</th>\n",
       "      <td>51592.000000</td>\n",
       "      <td>2019.000000</td>\n",
       "      <td>750.000000</td>\n",
       "      <td>750.000000</td>\n",
       "      <td>1022.000000</td>\n",
       "      <td>1950.000000</td>\n",
       "      <td>30.000000</td>\n",
       "      <td>135.000000</td>\n",
       "      <td>250.000000</td>\n",
       "      <td>5.000000</td>\n",
       "    </tr>\n",
       "  </tbody>\n",
       "</table>\n",
       "</div>"
      ],
      "text/plain": [
       "             Web ID  Reported Year  Number Dead  \\\n",
       "count   5333.000000    5333.000000  5142.000000   \n",
       "mean   43247.885805    2016.656104     3.287631   \n",
       "std     5186.837212       1.237033    13.593407   \n",
       "min    30158.000000    2014.000000     0.000000   \n",
       "25%    40876.000000    2016.000000     1.000000   \n",
       "50%    43504.000000    2017.000000     1.000000   \n",
       "75%    45747.000000    2018.000000     2.000000   \n",
       "max    51592.000000    2019.000000   750.000000   \n",
       "\n",
       "       Minimum Estimated Number of Missing  Total Dead and Missing  \\\n",
       "count                           503.000000             5333.000000   \n",
       "mean                             29.119284                5.916370   \n",
       "std                              67.913216               28.051811   \n",
       "min                               0.000000                0.000000   \n",
       "25%                               2.000000                1.000000   \n",
       "50%                               7.000000                1.000000   \n",
       "75%                              25.000000                3.000000   \n",
       "max                             750.000000             1022.000000   \n",
       "\n",
       "       Number of Survivors  Number of Females  Number of Males  \\\n",
       "count           749.000000         897.000000      2813.000000   \n",
       "mean             63.607477           2.012263         1.890864   \n",
       "std             146.520155           2.990100         5.510674   \n",
       "min               0.000000           0.000000         0.000000   \n",
       "25%               5.000000           1.000000         1.000000   \n",
       "50%              15.000000           1.000000         1.000000   \n",
       "75%              61.000000           2.000000         1.000000   \n",
       "max            1950.000000          30.000000       135.000000   \n",
       "\n",
       "       Number of Children  Source Quality  \n",
       "count          644.000000     5333.000000  \n",
       "mean             2.476708        2.895556  \n",
       "std             10.216220        1.423257  \n",
       "min              0.000000        1.000000  \n",
       "25%              1.000000        2.000000  \n",
       "50%              1.000000        2.000000  \n",
       "75%              2.000000        4.000000  \n",
       "max            250.000000        5.000000  "
      ]
     },
     "execution_count": 28,
     "metadata": {},
     "output_type": "execute_result"
    }
   ],
   "source": [
    "# Use describe to get first insight about the data columns and rows.\n",
    "Missing_Migrants.describe()"
   ]
  },
  {
   "cell_type": "code",
   "execution_count": 29,
   "metadata": {},
   "outputs": [
    {
     "name": "stdout",
     "output_type": "stream",
     "text": [
      "<class 'pandas.core.frame.DataFrame'>\n",
      "RangeIndex: 5333 entries, 0 to 5332\n",
      "Data columns (total 20 columns):\n",
      "Web ID                                 5333 non-null int64\n",
      "Region of Incident                     5333 non-null object\n",
      "Reported Date                          5333 non-null object\n",
      "Reported Year                          5333 non-null int64\n",
      "Reported Month                         5333 non-null object\n",
      "Number Dead                            5142 non-null float64\n",
      "Minimum Estimated Number of Missing    503 non-null float64\n",
      "Total Dead and Missing                 5333 non-null int64\n",
      "Number of Survivors                    749 non-null float64\n",
      "Number of Females                      897 non-null float64\n",
      "Number of Males                        2813 non-null float64\n",
      "Number of Children                     644 non-null float64\n",
      "Cause of Death                         5333 non-null object\n",
      "Location Description                   5323 non-null object\n",
      "Information Source                     5331 non-null object\n",
      "Location Coordinates                   5332 non-null object\n",
      "Migration Route                        2660 non-null object\n",
      "URL                                    3192 non-null object\n",
      "UNSD Geographical Grouping             5322 non-null object\n",
      "Source Quality                         5333 non-null int64\n",
      "dtypes: float64(6), int64(4), object(10)\n",
      "memory usage: 833.4+ KB\n"
     ]
    }
   ],
   "source": [
    "# Dataset Column data informations\n",
    "Missing_Migrants.info()"
   ]
  },
  {
   "cell_type": "code",
   "execution_count": 30,
   "metadata": {},
   "outputs": [
    {
     "data": {
      "text/plain": [
       "Web ID                                   int64\n",
       "Region of Incident                      object\n",
       "Reported Date                           object\n",
       "Reported Year                            int64\n",
       "Reported Month                          object\n",
       "Number Dead                            float64\n",
       "Minimum Estimated Number of Missing    float64\n",
       "Total Dead and Missing                   int64\n",
       "Number of Survivors                    float64\n",
       "Number of Females                      float64\n",
       "Number of Males                        float64\n",
       "Number of Children                     float64\n",
       "Cause of Death                          object\n",
       "Location Description                    object\n",
       "Information Source                      object\n",
       "Location Coordinates                    object\n",
       "Migration Route                         object\n",
       "URL                                     object\n",
       "UNSD Geographical Grouping              object\n",
       "Source Quality                           int64\n",
       "dtype: object"
      ]
     },
     "execution_count": 30,
     "metadata": {},
     "output_type": "execute_result"
    }
   ],
   "source": [
    "Missing_Migrants.dtypes"
   ]
  },
  {
   "cell_type": "code",
   "execution_count": 31,
   "metadata": {},
   "outputs": [
    {
     "data": {
      "text/plain": [
       "Index(['Web ID', 'Region of Incident', 'Reported Date', 'Reported Year',\n",
       "       'Reported Month', 'Number Dead', 'Minimum Estimated Number of Missing',\n",
       "       'Total Dead and Missing', 'Number of Survivors', 'Number of Females',\n",
       "       'Number of Males', 'Number of Children', 'Cause of Death',\n",
       "       'Location Description', 'Information Source', 'Location Coordinates',\n",
       "       'Migration Route', 'URL', 'UNSD Geographical Grouping',\n",
       "       'Source Quality'],\n",
       "      dtype='object')"
      ]
     },
     "execution_count": 31,
     "metadata": {},
     "output_type": "execute_result"
    }
   ],
   "source": [
    "# Get the column names of dataset to use in the analysis process.\n",
    "Missing_Migrants.columns"
   ]
  },
  {
   "cell_type": "markdown",
   "metadata": {},
   "source": [
    "#### Data Preparation\n",
    "\n",
    "Data prepation is defined as all activities to construct the final dataset from the initial dataset. Some data preparation steps need to be done before using the dataset for exploration, including：\n",
    "\n",
    "- Drop unused columns\n",
    "- Checking columns with missing values and analyze impact\n",
    "- Dealing with missing values\n",
    "- One-Hot Encoding for Categorical variables if needed"
   ]
  },
  {
   "cell_type": "markdown",
   "metadata": {},
   "source": [
    "First, I will drop the unused columns in the dataset in the analyzing process."
   ]
  },
  {
   "cell_type": "code",
   "execution_count": 32,
   "metadata": {},
   "outputs": [
    {
     "data": {
      "text/html": [
       "<div>\n",
       "<style scoped>\n",
       "    .dataframe tbody tr th:only-of-type {\n",
       "        vertical-align: middle;\n",
       "    }\n",
       "\n",
       "    .dataframe tbody tr th {\n",
       "        vertical-align: top;\n",
       "    }\n",
       "\n",
       "    .dataframe thead th {\n",
       "        text-align: right;\n",
       "    }\n",
       "</style>\n",
       "<table border=\"1\" class=\"dataframe\">\n",
       "  <thead>\n",
       "    <tr style=\"text-align: right;\">\n",
       "      <th></th>\n",
       "      <th>Region of Incident</th>\n",
       "      <th>Reported Year</th>\n",
       "      <th>Reported Month</th>\n",
       "      <th>Number Dead</th>\n",
       "      <th>Minimum Estimated Number of Missing</th>\n",
       "      <th>Total Dead and Missing</th>\n",
       "      <th>Number of Survivors</th>\n",
       "      <th>Number of Females</th>\n",
       "      <th>Number of Males</th>\n",
       "      <th>Number of Children</th>\n",
       "      <th>Cause of Death</th>\n",
       "      <th>Migration Route</th>\n",
       "      <th>UNSD Geographical Grouping</th>\n",
       "    </tr>\n",
       "  </thead>\n",
       "  <tbody>\n",
       "    <tr>\n",
       "      <th>0</th>\n",
       "      <td>Mediterranean</td>\n",
       "      <td>2019</td>\n",
       "      <td>Mar</td>\n",
       "      <td>NaN</td>\n",
       "      <td>2.0</td>\n",
       "      <td>2</td>\n",
       "      <td>36.0</td>\n",
       "      <td>NaN</td>\n",
       "      <td>2.0</td>\n",
       "      <td>NaN</td>\n",
       "      <td>Presumed drowning</td>\n",
       "      <td>Eastern Mediterranean</td>\n",
       "      <td>Uncategorized</td>\n",
       "    </tr>\n",
       "    <tr>\n",
       "      <th>1</th>\n",
       "      <td>Mediterranean</td>\n",
       "      <td>2019</td>\n",
       "      <td>Mar</td>\n",
       "      <td>4.0</td>\n",
       "      <td>NaN</td>\n",
       "      <td>4</td>\n",
       "      <td>11.0</td>\n",
       "      <td>3.0</td>\n",
       "      <td>NaN</td>\n",
       "      <td>1.0</td>\n",
       "      <td>Presumed drowning</td>\n",
       "      <td>Eastern Mediterranean</td>\n",
       "      <td>Uncategorized</td>\n",
       "    </tr>\n",
       "    <tr>\n",
       "      <th>2</th>\n",
       "      <td>Mediterranean</td>\n",
       "      <td>2019</td>\n",
       "      <td>Mar</td>\n",
       "      <td>1.0</td>\n",
       "      <td>NaN</td>\n",
       "      <td>1</td>\n",
       "      <td>NaN</td>\n",
       "      <td>NaN</td>\n",
       "      <td>NaN</td>\n",
       "      <td>NaN</td>\n",
       "      <td>Presumed drowning</td>\n",
       "      <td>Western Mediterranean</td>\n",
       "      <td>Uncategorized</td>\n",
       "    </tr>\n",
       "    <tr>\n",
       "      <th>3</th>\n",
       "      <td>Mediterranean</td>\n",
       "      <td>2019</td>\n",
       "      <td>Mar</td>\n",
       "      <td>1.0</td>\n",
       "      <td>NaN</td>\n",
       "      <td>1</td>\n",
       "      <td>NaN</td>\n",
       "      <td>NaN</td>\n",
       "      <td>NaN</td>\n",
       "      <td>NaN</td>\n",
       "      <td>Presumed drowning</td>\n",
       "      <td>Western Mediterranean</td>\n",
       "      <td>Uncategorized</td>\n",
       "    </tr>\n",
       "    <tr>\n",
       "      <th>4</th>\n",
       "      <td>Central America</td>\n",
       "      <td>2019</td>\n",
       "      <td>Mar</td>\n",
       "      <td>1.0</td>\n",
       "      <td>NaN</td>\n",
       "      <td>1</td>\n",
       "      <td>NaN</td>\n",
       "      <td>NaN</td>\n",
       "      <td>1.0</td>\n",
       "      <td>NaN</td>\n",
       "      <td>Fall from train</td>\n",
       "      <td>NaN</td>\n",
       "      <td>Central America</td>\n",
       "    </tr>\n",
       "  </tbody>\n",
       "</table>\n",
       "</div>"
      ],
      "text/plain": [
       "  Region of Incident  Reported Year Reported Month  Number Dead  \\\n",
       "0      Mediterranean           2019            Mar          NaN   \n",
       "1      Mediterranean           2019            Mar          4.0   \n",
       "2      Mediterranean           2019            Mar          1.0   \n",
       "3      Mediterranean           2019            Mar          1.0   \n",
       "4    Central America           2019            Mar          1.0   \n",
       "\n",
       "   Minimum Estimated Number of Missing  Total Dead and Missing  \\\n",
       "0                                  2.0                       2   \n",
       "1                                  NaN                       4   \n",
       "2                                  NaN                       1   \n",
       "3                                  NaN                       1   \n",
       "4                                  NaN                       1   \n",
       "\n",
       "   Number of Survivors  Number of Females  Number of Males  \\\n",
       "0                 36.0                NaN              2.0   \n",
       "1                 11.0                3.0              NaN   \n",
       "2                  NaN                NaN              NaN   \n",
       "3                  NaN                NaN              NaN   \n",
       "4                  NaN                NaN              1.0   \n",
       "\n",
       "   Number of Children     Cause of Death        Migration Route  \\\n",
       "0                 NaN  Presumed drowning  Eastern Mediterranean   \n",
       "1                 1.0  Presumed drowning  Eastern Mediterranean   \n",
       "2                 NaN  Presumed drowning  Western Mediterranean   \n",
       "3                 NaN  Presumed drowning  Western Mediterranean   \n",
       "4                 NaN    Fall from train                    NaN   \n",
       "\n",
       "  UNSD Geographical Grouping  \n",
       "0              Uncategorized  \n",
       "1              Uncategorized  \n",
       "2              Uncategorized  \n",
       "3              Uncategorized  \n",
       "4            Central America  "
      ]
     },
     "execution_count": 32,
     "metadata": {},
     "output_type": "execute_result"
    }
   ],
   "source": [
    "# Data Preparation Step 1: Drop the columns which will not be used in this project\n",
    "Missing_Migrants.drop('Web ID',              axis = 1,inplace=True)\n",
    "Missing_Migrants.drop('Reported Date',       axis = 1,inplace=True)\n",
    "Missing_Migrants.drop('Information Source',  axis = 1,inplace=True)\n",
    "Missing_Migrants.drop('Location Coordinates',axis = 1,inplace=True)\n",
    "Missing_Migrants.drop('URL',                 axis = 1,inplace=True)\n",
    "Missing_Migrants.drop('Location Description',axis = 1,inplace=True)\n",
    "Missing_Migrants.drop('Source Quality',      axis = 1,inplace=True)\n",
    "Missing_Migrants.head(5)"
   ]
  },
  {
   "cell_type": "markdown",
   "metadata": {},
   "source": [
    "Second and third step in the data preparation are about the missing values and replacing them with NaN values. Since, the selected dataset is clean in the point of missing values, it is not needed to perform conversion."
   ]
  },
  {
   "cell_type": "markdown",
   "metadata": {},
   "source": [
    "Last step is dealing with categorical variables if needed. However, it is not needed to deal/convert the categorical variables."
   ]
  },
  {
   "cell_type": "markdown",
   "metadata": {},
   "source": [
    "#### Distribution of total dead and missing number of migrants among the years\n",
    "\n",
    "Total dead and missing people among the years can be a good identifier for understanding governments policy change by the years. "
   ]
  },
  {
   "cell_type": "code",
   "execution_count": 56,
   "metadata": {
    "scrolled": true
   },
   "outputs": [
    {
     "data": {
      "image/png": "[encoded data removed]",
      "text/plain": [
       "<Figure size 1440x720 with 1 Axes>"
      ]
     },
     "metadata": {
      "needs_background": "light"
     },
     "output_type": "display_data"
    }
   ],
   "source": [
    "# Number of Dead and Missing Number of Migrants by Year Count\n",
    "total_losses = Missing_Migrants.groupby(['Reported Year'])['Total Dead and Missing'].sum()\n",
    "total_deads = Missing_Migrants.groupby(['Reported Year'])['Number Dead'].sum().astype(int)\n",
    "#total_deads = pd.options.display.float_format = '{:,.0f}'.format\n",
    "\n",
    "ax = total_losses.plot(kind='barh', figsize=(20, 10) ,color=\"orange\", fontsize=12);\n",
    "ax = total_deads.plot(kind='barh', figsize=(20, 10) ,color=\"slateblue\", fontsize=12);\n",
    "ax.set_alpha(0.8)\n",
    "ax.set_title(\"Number of Dead and Missing by Year\", fontsize=15)\n",
    "#ax.set_xticks([0, 5])\n",
    "\n",
    "# set individual bar lables using above list\n",
    "for i in ax.patches:\n",
    "    # get_width pulls left or right; get_y pushes up or down\n",
    "    ax.text(i.get_width()+.1, i.get_y()+.31, \\\n",
    "            str(round((i.get_width()), 2)), fontsize=12, color='black')\n",
    "    \n",
    "\n",
    "# invert for largest on top \n",
    "ax.invert_yaxis()"
   ]
  },
  {
   "cell_type": "markdown",
   "metadata": {},
   "source": [
    "In the above plot, the total missing and dead migrants are represented with orange and stateblue colors and the total count for each year is located at the right side of orange block. It is seen that there is a significant increase in dead migrants count at the year 2015 and also the total missing and dead migrants count is increased to 6584 from 5287. However, in 2014, only 1724 migrants were reported as dead, in 2015 these number is 4045. So, it might be said that the research and reporting about migrants are improved after the year 2014. Because, 2014 and 2015 have similar number for total counts. The peak for migrants life condition is observed at the year 2016. The number of deads and missings are reached their tops therefore the reasons, economical, political, etc, for this year should be investigated. And hopefully, the migrants life and people life conditions will have some value after the year 2019."
   ]
  },
  {
   "cell_type": "markdown",
   "metadata": {},
   "source": [
    "#### Region of Incident\n",
    "\n",
    "It might be a good indicator to check the region of incident to understand migration route and border security."
   ]
  },
  {
   "cell_type": "code",
   "execution_count": 119,
   "metadata": {},
   "outputs": [
    {
     "data": {
      "image/png": "[encoded data removed]",
      "text/plain": [
       "<Figure size 1440x720 with 1 Axes>"
      ]
     },
     "metadata": {
      "needs_background": "light"
     },
     "output_type": "display_data"
    }
   ],
   "source": [
    "\n",
    "region_incident = Missing_Migrants.groupby(['Region of Incident'])['Total Dead and Missing'].sum().sort_values(ascending = False)\n",
    "\n",
    "ax = region_incident.plot(kind='barh', figsize=(20, 10) ,color=\"magenta\", fontsize=15);\n",
    "plt.ylabel('');\n",
    "ax.set_alpha(0.8)\n",
    "ax.set_title(\"Region of Incident\", fontsize=15)\n",
    "\n",
    "\n",
    "# set individual bar lables using above list\n",
    "for i in ax.patches:\n",
    "    # get_width pulls left or right; get_y pushes up or down\n",
    "    ax.text(i.get_width()+.1, i.get_y()+.31, \\\n",
    "            str(round((i.get_width()), 2)), fontsize=12, color='black')\n",
    "    \n",
    "\n",
    "# invert for largest on top \n",
    "ax.invert_yaxis()                                          "
   ]
  },
  {
   "cell_type": "markdown",
   "metadata": {},
   "source": [
    "It is seen that most of the accidents is taken place in Mediterranean borders and it is reasonable if we think that the people want to migrate the European countries. However, it is also observed that migrants can survive during the road but they had to face the most serious conditions when they have reached the final point."
   ]
  },
  {
   "cell_type": "markdown",
   "metadata": {},
   "source": [
    "#### Top Causes of Death"
   ]
  },
  {
   "cell_type": "markdown",
   "metadata": {},
   "source": [
    "Let's first illustrate the top 10 cause of deaths in whole dataset."
   ]
  },
  {
   "cell_type": "code",
   "execution_count": 108,
   "metadata": {},
   "outputs": [
    {
     "data": {
      "image/png": "[encoded data removed]",
      "text/plain": [
       "<Figure size 576x576 with 1 Axes>"
      ]
     },
     "metadata": {},
     "output_type": "display_data"
    }
   ],
   "source": [
    "Missing_Migrants['Cause of Death'].value_counts().head(10).plot(kind = 'pie', figsize = (8,8), autopct='%1.0f%%')\n",
    "plt.title('Top 10 Causes of Death', fontsize = 14)\n",
    "plt.ylabel('');"
   ]
  },
  {
   "cell_type": "markdown",
   "metadata": {},
   "source": [
    "From the Pie Chart, **Drowning and Sickness** are the most common reason behind missing and dead migrants life story. We can say that migrants choose to escape via seaway and most of the time it ended in a worse scenario. And, even if they can survive in the road, they have to face with the illness and try to rescue without any access to medicices.\n",
    "\n",
    "It is seen that the **Unknown** has a huge percentage, 26%, and it is quite sad because it indicates that tough circumcatences that migranst faced, even their body didnt identified. "
   ]
  },
  {
   "cell_type": "code",
   "execution_count": null,
   "metadata": {},
   "outputs": [],
   "source": []
  }
 ],
 "metadata": {
  "kernelspec": {
   "display_name": "Python 3",
   "language": "python",
   "name": "python3"
  },
  "language_info": {
   "codemirror_mode": {
    "name": "ipython",
    "version": 3
   },
   "file_extension": ".py",
   "mimetype": "text/x-python",
   "name": "python",
   "nbconvert_exporter": "python",
   "pygments_lexer": "ipython3",
   "version": "3.7.3"
  }
 },
 "nbformat": 4,
 "nbformat_minor": 2
}
